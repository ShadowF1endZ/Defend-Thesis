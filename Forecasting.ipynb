{
 "cells": [
  {
   "cell_type": "code",
   "execution_count": 86,
   "id": "4186660d",
   "metadata": {},
   "outputs": [],
   "source": [
    "import pandas as pd\n",
    "import matplotlib.pyplot as plt"
   ]
  },
  {
   "cell_type": "code",
   "execution_count": 87,
   "id": "aab7275d",
   "metadata": {},
   "outputs": [],
   "source": [
    "df = pd.read_csv(r'D:\\USTH\\Year_3\\Internship\\DeffendThesis\\Defend-Thesis\\Data\\Data_UF_cleaned.csv', encoding = 'latin1')"
   ]
  },
  {
   "cell_type": "markdown",
   "id": "e8ae21dc",
   "metadata": {},
   "source": [
    "## Time Series Index"
   ]
  },
  {
   "cell_type": "code",
   "execution_count": 88,
   "id": "28469f99",
   "metadata": {},
   "outputs": [],
   "source": [
    "# Convert 'Date' to Datetime and set as index\n",
    "df['Creation Date'] = pd.to_datetime(df['Creation Date'], dayfirst=True)\n",
    "df.set_index('Creation Date',inplace = True)\n"
   ]
  },
  {
   "cell_type": "code",
   "execution_count": 89,
   "id": "968a2a79",
   "metadata": {},
   "outputs": [
    {
     "data": {
      "text/plain": [
       "DatetimeIndex(['2023-12-03', '2023-12-03', '2023-12-03', '2023-12-04',\n",
       "               '2023-12-04', '2023-12-05', '2023-12-05', '2023-12-05',\n",
       "               '2023-12-06', '2023-12-06',\n",
       "               ...\n",
       "               '2024-09-09', '2024-09-09', '2024-09-09', '2024-09-09',\n",
       "               '2024-09-09', '2024-09-09', '2024-09-09', '2024-09-09',\n",
       "               '2024-09-09', '2024-09-09'],\n",
       "              dtype='datetime64[ns]', name='Creation Date', length=28623, freq=None)"
      ]
     },
     "execution_count": 89,
     "metadata": {},
     "output_type": "execute_result"
    }
   ],
   "source": [
    "df.index"
   ]
  },
  {
   "cell_type": "code",
   "execution_count": 96,
   "id": "aa5ad72d",
   "metadata": {},
   "outputs": [
    {
     "data": {
      "text/plain": [
       "Creation Date\n",
       "2025-01-01     39900.0\n",
       "2025-01-01     39900.0\n",
       "2025-01-01     39900.0\n",
       "2025-01-01    478800.0\n",
       "2025-01-01     39900.0\n",
       "                ...   \n",
       "2025-01-31     39900.0\n",
       "2025-01-31     39900.0\n",
       "2025-01-31     39900.0\n",
       "2025-01-31     39900.0\n",
       "2025-01-31     39900.0\n",
       "Name: Revenue, Length: 2224, dtype: float64"
      ]
     },
     "execution_count": 96,
     "metadata": {},
     "output_type": "execute_result"
    }
   ],
   "source": [
    "df.loc['2025-1']['Revenue']"
   ]
  },
  {
   "cell_type": "code",
   "execution_count": 91,
   "id": "e05c55eb",
   "metadata": {},
   "outputs": [
    {
     "name": "stderr",
     "output_type": "stream",
     "text": [
      "C:\\Users\\Thinkpad P1\\AppData\\Local\\Temp\\ipykernel_5200\\3542015835.py:2: FutureWarning: 'M' is deprecated and will be removed in a future version, please use 'ME' instead.\n",
      "  df['Revenue'].resample('M').mean()\n"
     ]
    },
    {
     "data": {
      "text/plain": [
       "Creation Date\n",
       "2023-12-31    1.016710e+06\n",
       "2024-01-31    3.902732e+05\n",
       "2024-02-29    3.248219e+05\n",
       "2024-03-31    2.962077e+05\n",
       "2024-04-30    2.659411e+05\n",
       "2024-05-31    2.432469e+05\n",
       "2024-06-30    2.204729e+05\n",
       "2024-07-31    2.193446e+05\n",
       "2024-08-31    1.930213e+05\n",
       "2024-09-30    2.369266e+05\n",
       "2024-10-31    2.114794e+05\n",
       "2024-11-30    2.261028e+05\n",
       "2024-12-31    9.387369e+04\n",
       "2025-01-31    5.322990e+04\n",
       "Freq: ME, Name: Revenue, dtype: float64"
      ]
     },
     "execution_count": 91,
     "metadata": {},
     "output_type": "execute_result"
    }
   ],
   "source": [
    "#Resampling to Monthly Frequancy and Calculate the mean closing price\n",
    "df['Revenue'].resample('M').mean()"
   ]
  }
 ],
 "metadata": {
  "kernelspec": {
   "display_name": "base",
   "language": "python",
   "name": "python3"
  },
  "language_info": {
   "codemirror_mode": {
    "name": "ipython",
    "version": 3
   },
   "file_extension": ".py",
   "mimetype": "text/x-python",
   "name": "python",
   "nbconvert_exporter": "python",
   "pygments_lexer": "ipython3",
   "version": "3.12.3"
  }
 },
 "nbformat": 4,
 "nbformat_minor": 5
}
