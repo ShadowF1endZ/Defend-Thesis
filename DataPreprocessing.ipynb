{
 "cells": [
  {
   "cell_type": "code",
   "execution_count": 12,
   "metadata": {},
   "outputs": [],
   "source": [
    "import matplotlib.pyplot as plt\n",
    "import pandas as pd\n",
    "import numpy as np"
   ]
  },
  {
   "cell_type": "code",
   "execution_count": 13,
   "metadata": {},
   "outputs": [],
   "source": [
    "folder_path = r\"D:\\USTH\\Year_3\\Internship\\DeffendThesis\\Data\"\n",
    "file_name = \"Data UF.xlsx\"\n",
    "\n",
    "\n",
    "df = pd.read_excel(f\"{folder_path}\\\\{file_name}\")"
   ]
  },
  {
   "cell_type": "code",
   "execution_count": 14,
   "metadata": {},
   "outputs": [
    {
     "data": {
      "text/html": [
       "<div>\n",
       "<style scoped>\n",
       "    .dataframe tbody tr th:only-of-type {\n",
       "        vertical-align: middle;\n",
       "    }\n",
       "\n",
       "    .dataframe tbody tr th {\n",
       "        vertical-align: top;\n",
       "    }\n",
       "\n",
       "    .dataframe thead th {\n",
       "        text-align: right;\n",
       "    }\n",
       "</style>\n",
       "<table border=\"1\" class=\"dataframe\">\n",
       "  <thead>\n",
       "    <tr style=\"text-align: right;\">\n",
       "      <th></th>\n",
       "      <th>Contract_ID</th>\n",
       "      <th>Vùng</th>\n",
       "      <th>CN quản lý</th>\n",
       "      <th>Đơn vị bán hàng</th>\n",
       "      <th>CN bán</th>\n",
       "      <th>Vùng bán</th>\n",
       "      <th>Ngày tạo</th>\n",
       "      <th>OrderID/RegCode</th>\n",
       "      <th>Transaction code</th>\n",
       "      <th>Type</th>\n",
       "      <th>...</th>\n",
       "      <th>Tháng TT</th>\n",
       "      <th>Doanh thu</th>\n",
       "      <th>Kênh bán</th>\n",
       "      <th>Status FGame</th>\n",
       "      <th>Ngày active</th>\n",
       "      <th>Ngày SD từ</th>\n",
       "      <th>Ngày SD đến</th>\n",
       "      <th>Gói internet</th>\n",
       "      <th>Ngày hủy</th>\n",
       "      <th>Unnamed: 20</th>\n",
       "    </tr>\n",
       "  </thead>\n",
       "  <tbody>\n",
       "    <tr>\n",
       "      <th>0</th>\n",
       "      <td>HD1262187733434228224</td>\n",
       "      <td>07.Ho Chi Minh</td>\n",
       "      <td>HCM_02</td>\n",
       "      <td>NaN</td>\n",
       "      <td>NaN</td>\n",
       "      <td>NaN</td>\n",
       "      <td>2024-01-01 00:00:00</td>\n",
       "      <td>FG00027082</td>\n",
       "      <td>UTMN_1_3107783</td>\n",
       "      <td>Code</td>\n",
       "      <td>...</td>\n",
       "      <td>1</td>\n",
       "      <td>39900.0</td>\n",
       "      <td>Hi-FPT</td>\n",
       "      <td>Đã hủy</td>\n",
       "      <td>2024-01-01 00:00:00</td>\n",
       "      <td>2024-01-01 00:00:00</td>\n",
       "      <td>2024-01-02 00:00:00</td>\n",
       "      <td>Meta</td>\n",
       "      <td>01/02/2024</td>\n",
       "      <td>1</td>\n",
       "    </tr>\n",
       "    <tr>\n",
       "      <th>1</th>\n",
       "      <td>HD138975645429405536</td>\n",
       "      <td>07.Ho Chi Minh</td>\n",
       "      <td>HCM_04</td>\n",
       "      <td>NaN</td>\n",
       "      <td>NaN</td>\n",
       "      <td>NaN</td>\n",
       "      <td>2024-01-01 00:00:00</td>\n",
       "      <td>FG00027050</td>\n",
       "      <td>UTMN_1_3107458</td>\n",
       "      <td>Code</td>\n",
       "      <td>...</td>\n",
       "      <td>1</td>\n",
       "      <td>39900.0</td>\n",
       "      <td>Hi-FPT</td>\n",
       "      <td>Đã hủy</td>\n",
       "      <td>2024-01-01 00:00:00</td>\n",
       "      <td>2024-01-01 00:00:00</td>\n",
       "      <td>2024-01-02 00:00:00</td>\n",
       "      <td>Meta</td>\n",
       "      <td>01/02/2024</td>\n",
       "      <td>2</td>\n",
       "    </tr>\n",
       "    <tr>\n",
       "      <th>2</th>\n",
       "      <td>HD1415792837332678912</td>\n",
       "      <td>07.Ho Chi Minh</td>\n",
       "      <td>HCM_03</td>\n",
       "      <td>NaN</td>\n",
       "      <td>NaN</td>\n",
       "      <td>NaN</td>\n",
       "      <td>2024-01-01 00:00:00</td>\n",
       "      <td>FG00027095</td>\n",
       "      <td>UTMN_1_3107901</td>\n",
       "      <td>Code</td>\n",
       "      <td>...</td>\n",
       "      <td>1</td>\n",
       "      <td>39900.0</td>\n",
       "      <td>Hi-FPT</td>\n",
       "      <td>Đã hủy</td>\n",
       "      <td>2024-01-01 00:00:00</td>\n",
       "      <td>2024-01-01 00:00:00</td>\n",
       "      <td>2024-01-02 00:00:00</td>\n",
       "      <td>Meta</td>\n",
       "      <td>01/02/2024</td>\n",
       "      <td>3</td>\n",
       "    </tr>\n",
       "    <tr>\n",
       "      <th>3</th>\n",
       "      <td>HD1594279484202634496</td>\n",
       "      <td>11.Tay Bac Bo</td>\n",
       "      <td>PTO - Phu Tho</td>\n",
       "      <td>NaN</td>\n",
       "      <td>NaN</td>\n",
       "      <td>NaN</td>\n",
       "      <td>2024-01-01 00:00:00</td>\n",
       "      <td>FG00027102</td>\n",
       "      <td>UTMB_1_3107929</td>\n",
       "      <td>Code</td>\n",
       "      <td>...</td>\n",
       "      <td>1</td>\n",
       "      <td>39900.0</td>\n",
       "      <td>Hi-FPT</td>\n",
       "      <td>Đã hủy</td>\n",
       "      <td>2024-01-01 00:00:00</td>\n",
       "      <td>2024-01-01 00:00:00</td>\n",
       "      <td>2024-01-02 00:00:00</td>\n",
       "      <td>Sky</td>\n",
       "      <td>01/02/2024</td>\n",
       "      <td>4</td>\n",
       "    </tr>\n",
       "    <tr>\n",
       "      <th>4</th>\n",
       "      <td>HD1706226854924891904</td>\n",
       "      <td>13.Tay Nguyen - Mien Trung</td>\n",
       "      <td>HUE - HUE</td>\n",
       "      <td>IBB</td>\n",
       "      <td>HUE - Huế</td>\n",
       "      <td>13.Tay Nguyen - Mien Trung</td>\n",
       "      <td>2024-01-01 00:00:00</td>\n",
       "      <td>NaN</td>\n",
       "      <td>NaN</td>\n",
       "      <td>NaN</td>\n",
       "      <td>...</td>\n",
       "      <td>0</td>\n",
       "      <td>0.0</td>\n",
       "      <td>Mobisale</td>\n",
       "      <td>Đã hủy</td>\n",
       "      <td>2024-01-01 00:00:00</td>\n",
       "      <td>NaN</td>\n",
       "      <td>NaN</td>\n",
       "      <td>Giga</td>\n",
       "      <td>01/03/2024</td>\n",
       "      <td>5</td>\n",
       "    </tr>\n",
       "  </tbody>\n",
       "</table>\n",
       "<p>5 rows × 21 columns</p>\n",
       "</div>"
      ],
      "text/plain": [
       "             Contract_ID                        Vùng     CN quản lý  \\\n",
       "0  HD1262187733434228224              07.Ho Chi Minh         HCM_02   \n",
       "1   HD138975645429405536              07.Ho Chi Minh         HCM_04   \n",
       "2  HD1415792837332678912              07.Ho Chi Minh         HCM_03   \n",
       "3  HD1594279484202634496               11.Tay Bac Bo  PTO - Phu Tho   \n",
       "4  HD1706226854924891904  13.Tay Nguyen - Mien Trung      HUE - HUE   \n",
       "\n",
       "  Đơn vị bán hàng     CN bán                    Vùng bán             Ngày tạo  \\\n",
       "0             NaN        NaN                         NaN  2024-01-01 00:00:00   \n",
       "1             NaN        NaN                         NaN  2024-01-01 00:00:00   \n",
       "2             NaN        NaN                         NaN  2024-01-01 00:00:00   \n",
       "3             NaN        NaN                         NaN  2024-01-01 00:00:00   \n",
       "4             IBB  HUE - Huế  13.Tay Nguyen - Mien Trung  2024-01-01 00:00:00   \n",
       "\n",
       "  OrderID/RegCode Transaction code  Type  ... Tháng TT  Doanh thu  Kênh bán  \\\n",
       "0      FG00027082   UTMN_1_3107783  Code  ...        1    39900.0    Hi-FPT   \n",
       "1      FG00027050   UTMN_1_3107458  Code  ...        1    39900.0    Hi-FPT   \n",
       "2      FG00027095   UTMN_1_3107901  Code  ...        1    39900.0    Hi-FPT   \n",
       "3      FG00027102   UTMB_1_3107929  Code  ...        1    39900.0    Hi-FPT   \n",
       "4             NaN              NaN   NaN  ...        0        0.0  Mobisale   \n",
       "\n",
       "  Status FGame          Ngày active           Ngày SD từ          Ngày SD đến  \\\n",
       "0       Đã hủy  2024-01-01 00:00:00  2024-01-01 00:00:00  2024-01-02 00:00:00   \n",
       "1       Đã hủy  2024-01-01 00:00:00  2024-01-01 00:00:00  2024-01-02 00:00:00   \n",
       "2       Đã hủy  2024-01-01 00:00:00  2024-01-01 00:00:00  2024-01-02 00:00:00   \n",
       "3       Đã hủy  2024-01-01 00:00:00  2024-01-01 00:00:00  2024-01-02 00:00:00   \n",
       "4       Đã hủy  2024-01-01 00:00:00                  NaN                  NaN   \n",
       "\n",
       "  Gói internet    Ngày hủy Unnamed: 20  \n",
       "0         Meta  01/02/2024           1  \n",
       "1         Meta  01/02/2024           2  \n",
       "2         Meta  01/02/2024           3  \n",
       "3          Sky  01/02/2024           4  \n",
       "4         Giga  01/03/2024           5  \n",
       "\n",
       "[5 rows x 21 columns]"
      ]
     },
     "execution_count": 14,
     "metadata": {},
     "output_type": "execute_result"
    }
   ],
   "source": [
    "df.head()"
   ]
  },
  {
   "cell_type": "code",
   "execution_count": 15,
   "metadata": {},
   "outputs": [
    {
     "name": "stdout",
     "output_type": "stream",
     "text": [
      "<class 'pandas.core.frame.DataFrame'>\n",
      "RangeIndex: 43793 entries, 0 to 43792\n",
      "Data columns (total 21 columns):\n",
      " #   Column            Non-Null Count  Dtype  \n",
      "---  ------            --------------  -----  \n",
      " 0   Contract_ID       28061 non-null  object \n",
      " 1   Vùng              28061 non-null  object \n",
      " 2   CN quản lý        28061 non-null  object \n",
      " 3   Đơn vị bán hàng   5514 non-null   object \n",
      " 4   CN bán            19834 non-null  object \n",
      " 5   Vùng bán          19834 non-null  object \n",
      " 6   Ngày tạo          43793 non-null  object \n",
      " 7   OrderID/RegCode   16282 non-null  object \n",
      " 8   Transaction code  1254 non-null   object \n",
      " 9   Type              37096 non-null  object \n",
      " 10  Câu lệnh gói FG   43792 non-null  object \n",
      " 11  Tháng TT          43793 non-null  int64  \n",
      " 12  Doanh thu         43791 non-null  float64\n",
      " 13  Kênh bán          42660 non-null  object \n",
      " 14  Status FGame      43793 non-null  object \n",
      " 15  Ngày active       24229 non-null  object \n",
      " 16  Ngày SD từ        19090 non-null  object \n",
      " 17  Ngày SD đến       19090 non-null  object \n",
      " 18  Gói internet      24229 non-null  object \n",
      " 19  Ngày hủy          16861 non-null  object \n",
      " 20  Unnamed: 20       43793 non-null  int64  \n",
      "dtypes: float64(1), int64(2), object(18)\n",
      "memory usage: 7.0+ MB\n"
     ]
    }
   ],
   "source": [
    "df.info()"
   ]
  },
  {
   "cell_type": "markdown",
   "metadata": {},
   "source": [
    "# Clean CN quản lý và CN bán"
   ]
  },
  {
   "cell_type": "code",
   "execution_count": 16,
   "metadata": {},
   "outputs": [
    {
     "data": {
      "text/plain": [
       "array(['HCM_02', 'HCM_04', 'HCM_03', 'PTO - Phu Tho', 'HUE - HUE',\n",
       "       'BDG - Binh Duong 01', 'HCM_01', 'HNI_04', 'HYN - Hung Yen',\n",
       "       'HNI_03', 'BDH - Binh Dinh', 'LDG - Lam Dong', 'DTP - Dong Thap',\n",
       "       'BGG - Bac Giang', 'HNI_02', 'BTN - Binh Thuan',\n",
       "       'DNI - Dong Nai 02', 'HNI_05', 'KHA - Nha Trang 01',\n",
       "       'NDH - Nam Dinh', 'TNH - Tay Ninh', 'HPG - Hai Phong 01', 'HCM_06',\n",
       "       'CTO - Can Tho', 'LAN - Long An', 'DNI - Dong Nai 01', 'HCM_07',\n",
       "       'HNI_01', 'YBI - Yen Bai', 'HPG - Hai Phong 02',\n",
       "       'TGG - Tien Giang', 'LSN - Lang Son', 'QNI - Quang Ngai',\n",
       "       'QTI - Quang Tri', 'BDG - Binh Duong 02', 'QNH - Quang Ninh 01',\n",
       "       'DBN - Dien Bien', 'NAN - Nghe An', 'QBH - Quang Binh',\n",
       "       'HGG - Hau Giang', 'TQG - Tuyen Quang', 'NTN - Ninh Thuan',\n",
       "       'TBH - Thai Binh', 'AGG - An Giang', 'VPC - Vinh Phuc',\n",
       "       'THA - Thanh Hoa', 'LCI - Lao Cai', 'PYN - Phu Yen',\n",
       "       'VLG - Vinh Long', 'QNH - Quang Ninh 03', 'NBH - Ninh Binh',\n",
       "       'DNI - Dong Nai 04', 'QNM - Quang Nam', 'VTU - Vung Tau',\n",
       "       'TNN - Thai Nguyen', 'DLK - Dak Lak', 'BLU - Bac Lieu',\n",
       "       'QNH - Quang Ninh 02', 'BNH - Bac Ninh', 'HNM - Ha Nam',\n",
       "       'DNG - Da Nang 02', 'DNG - Da Nang 01', 'HBH - Hoa Binh',\n",
       "       'KGG - Kien Giang', 'HDG - Hai Duong 01', 'SLA - Son La',\n",
       "       'HTH - Ha Tinh', 'DNI - Dong Nai 03', 'GLI - Gia Lai',\n",
       "       'STG - Soc Trang', nan, 'BPC - Binh Phuoc', 'KHA - Nha Trang 02',\n",
       "       'HDG - Hai Duong 02', 'TVH - Tra Vinh', 'BTE - Ben Tre',\n",
       "       'CMU - Ca Mau', 'CBG - Cao Bang', 'DKG - Dak Nong',\n",
       "       'KTM - Kon Tum'], dtype=object)"
      ]
     },
     "execution_count": 16,
     "metadata": {},
     "output_type": "execute_result"
    }
   ],
   "source": [
    "df['CN quản lý'].unique()"
   ]
  },
  {
   "cell_type": "code",
   "execution_count": 17,
   "metadata": {},
   "outputs": [],
   "source": [
    "# Hàm dùng để clean CN quản lý và CN bán\n",
    "def clean(value):\n",
    "    if pd.isna(value):\n",
    "        return value\n",
    "    \n",
    "    if 'HCM' in value or 'HNI' in value:\n",
    "        return value\n",
    "    \n",
    "    if '-' in value:\n",
    "        return value.split('-')[0].strip()\n",
    "\n",
    "    return value"
   ]
  },
  {
   "cell_type": "code",
   "execution_count": 18,
   "metadata": {},
   "outputs": [
    {
     "name": "stdout",
     "output_type": "stream",
     "text": [
      "['HCM_02' 'HCM_04' 'HCM_03' 'PTO' 'HUE' 'BDG' 'HCM_01' 'HNI_04' 'HYN'\n",
      " 'HNI_03' 'BDH' 'LDG' 'DTP' 'BGG' 'HNI_02' 'BTN' 'DNI' 'HNI_05' 'KHA'\n",
      " 'NDH' 'TNH' 'HPG' 'HCM_06' 'CTO' 'LAN' 'HCM_07' 'HNI_01' 'YBI' 'TGG'\n",
      " 'LSN' 'QNI' 'QTI' 'QNH' 'DBN' 'NAN' 'QBH' 'HGG' 'TQG' 'NTN' 'TBH' 'AGG'\n",
      " 'VPC' 'THA' 'LCI' 'PYN' 'VLG' 'NBH' 'QNM' 'VTU' 'TNN' 'DLK' 'BLU' 'BNH'\n",
      " 'HNM' 'DNG' 'HBH' 'KGG' 'HDG' 'SLA' 'HTH' 'GLI' 'STG' nan 'BPC' 'TVH'\n",
      " 'BTE' 'CMU' 'CBG' 'DKG' 'KTM']\n"
     ]
    }
   ],
   "source": [
    "df['CN quản lý'] = df['CN quản lý'].apply(clean)\n",
    "\n",
    "print(df['CN quản lý'].unique())"
   ]
  },
  {
   "cell_type": "code",
   "execution_count": 19,
   "metadata": {},
   "outputs": [
    {
     "data": {
      "text/plain": [
       "array([nan, 'HUE - Huế', 'HCM - CN Tinh', 'HCM - CN14', 'HCM - CN1',\n",
       "       'LDG - Lâm Đồng', 'HCM - CN3', 'HCM - CN2', 'BDH - Bình Định',\n",
       "       'LAN - Long An', 'DNI - Đồng Nai', 'HCM - CN4', 'YBI - Yên Bái',\n",
       "       'KHA - Khánh Hòa', 'BGG - Bắc Giang', 'HNI - CN5',\n",
       "       'NDH - Nam Định', 'HNI - KDDA', 'QTI - Quảng Trị', 'HCM - KDDA',\n",
       "       'HNI - CN1', 'NAN - Nghệ An', 'HNI - CN2', 'BDG - Bình Dương',\n",
       "       'QBH - Quảng Bình', 'NTN - Ninh Thuận', 'AGG - An Giang',\n",
       "       'HCM - CN6', 'VPC - Vĩnh Phúc', 'THA - Thanh Hóa',\n",
       "       'TBH - Thái Bình', 'HDG - Hải Dương', 'QNH - Quảng Ninh',\n",
       "       'PTO - Phú Thọ', 'HNI - CN4', 'DNG - Đà Nẵng', 'HCM - CN7',\n",
       "       'BTN - Bình Thuận', 'HPG - Hải Phòng', 'CTO - Cần Thơ',\n",
       "       'DLK - Đắk Lắk', 'NBH - Ninh Bình', 'TNN - Thái Nguyên',\n",
       "       'HNI - Telesales', 'HNM - Hà Nam', 'BNH - Bắc Ninh',\n",
       "       'BLU - Bạc Liêu', 'QNI - Quảng Ngãi', 'HBH - Hòa Bình',\n",
       "       'HNI - CN3', 'LCI - Lào Cai', 'TQG - Tuyên Quang',\n",
       "       'TGG - Tiền Giang', 'LSN - Lạng Sơn', 'VLG - Vĩnh Long',\n",
       "       'DBN - Điện Biên', 'VTU - Bà Rịa - Vũng Tàu', 'HCM - CN5',\n",
       "       'BPC - Bình Phước', 'QNM - Quảng Nam', 'TNH - Tây Ninh',\n",
       "       'DTP - Đồng Tháp', 'HYN - Hưng Yên', 'SLA - Sơn La',\n",
       "       'KGG - Kiên Giang', 'CBG - Cao Bằng', 'HCM - Telesales',\n",
       "       'PYN - Phú Yên', 'KTM - Kon Tum', 'GLI - Gia Lai', 'BTE - Bến Tre',\n",
       "       'CMU - Cà Mau', 'STG - Sóc Trăng', 'HGG - Hậu Giang',\n",
       "       'TVH - Trà Vinh', 'HTH - Hà Tĩnh'], dtype=object)"
      ]
     },
     "execution_count": 19,
     "metadata": {},
     "output_type": "execute_result"
    }
   ],
   "source": [
    "df['CN bán'].unique()"
   ]
  },
  {
   "cell_type": "code",
   "execution_count": 20,
   "metadata": {},
   "outputs": [
    {
     "name": "stdout",
     "output_type": "stream",
     "text": [
      "[nan 'HUE' 'HCM - CN Tinh' 'HCM - CN14' 'HCM - CN1' 'LDG' 'HCM - CN3'\n",
      " 'HCM - CN2' 'BDH' 'LAN' 'DNI' 'HCM - CN4' 'YBI' 'KHA' 'BGG' 'HNI - CN5'\n",
      " 'NDH' 'HNI - KDDA' 'QTI' 'HCM - KDDA' 'HNI - CN1' 'NAN' 'HNI - CN2' 'BDG'\n",
      " 'QBH' 'NTN' 'AGG' 'HCM - CN6' 'VPC' 'THA' 'TBH' 'HDG' 'QNH' 'PTO'\n",
      " 'HNI - CN4' 'DNG' 'HCM - CN7' 'BTN' 'HPG' 'CTO' 'DLK' 'NBH' 'TNN'\n",
      " 'HNI - Telesales' 'HNM' 'BNH' 'BLU' 'QNI' 'HBH' 'HNI - CN3' 'LCI' 'TQG'\n",
      " 'TGG' 'LSN' 'VLG' 'DBN' 'VTU' 'HCM - CN5' 'BPC' 'QNM' 'TNH' 'DTP' 'HYN'\n",
      " 'SLA' 'KGG' 'CBG' 'HCM - Telesales' 'PYN' 'KTM' 'GLI' 'BTE' 'CMU' 'STG'\n",
      " 'HGG' 'TVH' 'HTH']\n"
     ]
    }
   ],
   "source": [
    "df['CN bán'] = df['CN bán'].apply(clean)  \n",
    "print(df['CN bán'].unique())"
   ]
  },
  {
   "cell_type": "markdown",
   "metadata": {},
   "source": [
    "# Thêm cột hình thức bán"
   ]
  },
  {
   "cell_type": "code",
   "execution_count": 21,
   "metadata": {},
   "outputs": [
    {
     "name": "stdout",
     "output_type": "stream",
     "text": [
      "   Type                   Câu lệnh gói FG Hình thức bán\n",
      "0  Code  HiFPT - UltraFast - Tra truoc 1T          Code\n",
      "1  Code  HiFPT - UltraFast - Tra truoc 1T          Code\n",
      "2  Code  HiFPT - UltraFast - Tra truoc 1T          Code\n",
      "3  Code  HiFPT - UltraFast - Tra truoc 1T          Code\n",
      "4   NaN        Ultra Fast_Bundle Internet        Bundle\n"
     ]
    }
   ],
   "source": [
    "# Sử dụng numpy.select để tạo cột mới theo logic\n",
    "conditions = [\n",
    "    df['Type'] == 'Code',\n",
    "    df['Câu lệnh gói FG'] == 'Ultra Fast_Bundle Internet'\n",
    "]\n",
    "\n",
    "choices = ['Code', 'Bundle']\n",
    "\n",
    "# Nếu không thuộc 2 điều kiện trên thì là 'Extra'\n",
    "df['Hình thức bán'] = np.select(conditions, choices, default='Extra')\n",
    "\n",
    "# Xem cột mới\n",
    "print(df[['Type', 'Câu lệnh gói FG', 'Hình thức bán']].head())"
   ]
  },
  {
   "cell_type": "markdown",
   "metadata": {},
   "source": [
    "# Loại bỏ các dòng"
   ]
  },
  {
   "cell_type": "code",
   "execution_count": 23,
   "metadata": {},
   "outputs": [
    {
     "name": "stdout",
     "output_type": "stream",
     "text": [
      "Số dòng sau khi loại bỏ: 23623\n",
      "Đã lưu file sau khi lọc tại: D:\\USTH\\Year_3\\Internship\\DeffendThesis\\Data\\Data_UF_cleaned.xlsx\n"
     ]
    }
   ],
   "source": [
    "# Tạo điều kiện lọc\n",
    "condition = (df['Kênh bán'] == 'Inside') & (df['Câu lệnh gói FG'] != 'Ultra Fast_Bundle Internet')\n",
    "\n",
    "# Loại bỏ các dòng thỏa điều kiện đó\n",
    "df_filtered = df[~condition]\n",
    "\n",
    "# Xem lại số dòng sau khi lọc\n",
    "print(f\"Số dòng sau khi loại bỏ: {len(df_filtered)}\")\n",
    "\n",
    "# Nếu muốn lưu lại file mới:\n",
    "output_path = r\"D:\\USTH\\Year_3\\Internship\\DeffendThesis\\Data\\Data_UF_cleaned.xlsx\"\n",
    "df_filtered.to_excel(output_path, index=False)\n",
    "print(f\"Đã lưu file sau khi lọc tại: {output_path}\")"
   ]
  },
  {
   "cell_type": "code",
   "execution_count": null,
   "metadata": {},
   "outputs": [
    {
     "name": "stdout",
     "output_type": "stream",
     "text": [
      "Số dòng sau khi loại bỏ: 5242\n"
     ]
    }
   ],
   "source": [
    "condition = (df['Hình thức bán'] == 'Bundle') & (df['Status FGame'] != 'Đã kích hoạt')\n",
    "\n",
    "# Loại bỏ các dòng thỏa điều kiện\n",
    "df_filtered = df[~condition]\n",
    "\n",
    "# Kiểm tra lại kết quả\n",
    "print(f\"Số dòng sau khi loại bỏ: {len(df_filtered)}\")"
   ]
  },
  {
   "cell_type": "code",
   "execution_count": null,
   "metadata": {},
   "outputs": [],
   "source": [
    "output_path = r\"D:\\USTH\\Year_3\\Internship\\DeffendThesis\\Data\\Data_UF_cleaned.xlsx\"\n",
    "df_filtered.to_excel(output_path, index=False)\n"
   ]
  },
  {
   "cell_type": "code",
   "execution_count": null,
   "metadata": {},
   "outputs": [
    {
     "name": "stdout",
     "output_type": "stream",
     "text": [
      "  Hình thức bán        Kênh bán  Tổng doanh thu\n",
      "0        Bundle          Inside               0\n",
      "1        Bundle        Mobisale               0\n",
      "2        Bundle  Đăng ký Online               0\n",
      "3          Code          Hi-FPT        68268900\n",
      "4          Code  Đăng ký Online         2962600\n",
      "5         Extra        Mobisale         5067300\n",
      "Đã lưu file tổng hợp tại: D:\\USTH\\Year_3\\Internship\\DeffendThesis\\Data\\2025.02_summary.xlsx\n"
     ]
    }
   ],
   "source": [
    "folder_path = r\"D:\\USTH\\Year_3\\Internship\\DeffendThesis\\Data\"\n",
    "file_name = \"Data_UF_cleaned.xlsx\"\n",
    "\n",
    "df = pd.read_excel(f\"{folder_path}\\\\{file_name}\")\n",
    "\n",
    "# Group theo 'Hình thức bán' và 'Kênh bán'\n",
    "grouped = df.groupby(['Hình thức bán', 'Kênh bán']).agg({\n",
    "    'Doanh thu': 'sum'        # Tổng doanh thu\n",
    "}).reset_index()\n",
    "\n",
    "# Đổi tên cột cho dễ hiểu\n",
    "grouped.rename(columns={\n",
    "    'Hợp đồng mua': 'Số hợp đồng bán',\n",
    "    'Doanh thu': 'Tổng doanh thu'\n",
    "}, inplace=True)\n",
    "\n",
    "# Hiển thị kết quả\n",
    "print(grouped)\n",
    "\n",
    "# Lưu file nếu muốn\n",
    "#output_path = r\"D:\\USTH\\Year_3\\Internship\\DeffendThesis\\Data\\2025.02_summary.xlsx\"\n",
    "#grouped.to_excel(output_path, index=False)\n",
    "#print(f\"Đã lưu file tổng hợp tại: {output_path}\")\n"
   ]
  }
 ],
 "metadata": {
  "kernelspec": {
   "display_name": "base",
   "language": "python",
   "name": "python3"
  },
  "language_info": {
   "codemirror_mode": {
    "name": "ipython",
    "version": 3
   },
   "file_extension": ".py",
   "mimetype": "text/x-python",
   "name": "python",
   "nbconvert_exporter": "python",
   "pygments_lexer": "ipython3",
   "version": "3.12.3"
  }
 },
 "nbformat": 4,
 "nbformat_minor": 2
}
